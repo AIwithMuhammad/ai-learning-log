{
  "nbformat": 4,
  "nbformat_minor": 0,
  "metadata": {
    "colab": {
      "provenance": []
    },
    "kernelspec": {
      "name": "python3",
      "display_name": "Python 3"
    },
    "language_info": {
      "name": "python"
    }
  },
  "cells": [
    {
      "cell_type": "markdown",
      "source": [
        "#**Day 1 Supervised vs Unsupervised**"
      ],
      "metadata": {
        "id": "ztuwMfzqug4o"
      }
    },
    {
      "cell_type": "markdown",
      "source": [
        "#📘 Notes:\n",
        "* Supervised Learning: Model learns with \"labels\" (answers given).\n",
        "\n",
        "\n",
        "\n",
        "Example: Predicting flower species from petal measurements.\n",
        "\n",
        "* Unsupervised Learning: Model learns without labels.\n",
        "\n",
        "Example: Grouping flowers by similarity.\n",
        "\n",
        "**Today we'll use the Iris dataset for both.**"
      ],
      "metadata": {
        "id": "L1T_c6NOu9iH"
      }
    },
    {
      "cell_type": "code",
      "source": [
        "# --- Imports ---\n",
        "from sklearn.datasets import load_iris\n",
        "from sklearn.model_selection import train_test_split\n",
        "from sklearn.linear_model import LogisticRegression\n",
        "from sklearn.cluster import KMeans\n",
        "import matplotlib.pyplot as plt\n",
        "import pandas as pd\n",
        "\n",
        "# Load dataset\n",
        "iris = load_iris()\n",
        "X = iris.data\n",
        "y = iris.target\n"
      ],
      "metadata": {
        "id": "DZ6ppnl6vcOn"
      },
      "execution_count": null,
      "outputs": []
    },
    {
      "cell_type": "code",
      "source": [
        "# --- Supervised Learning Example (Logistic Regression) ---\n",
        "X_train, X_test, y_train, y_test = train_test_split(X, y, test_size=0.3, random_state=42)\n",
        "\n",
        "model = LogisticRegression(max_iter=200)\n",
        "model.fit(X_train, y_train)\n",
        "\n",
        "accuracy = model.score(X_test, y_test)\n",
        "print(f\"Supervised Learning (Logistic Regression) Accuracy: {accuracy:.2f}\")\n"
      ],
      "metadata": {
        "id": "GKHufdkQwxO3"
      },
      "execution_count": null,
      "outputs": []
    },
    {
      "cell_type": "code",
      "source": [
        "# --- Unsupervised Learning Example (KMeans Clustering) ---\n",
        "kmeans = KMeans(n_clusters=3, random_state=42)\n",
        "clusters = kmeans.fit_predict(X)\n",
        "\n",
        "plt.figure(figsize=(6,5))\n",
        "plt.scatter(X[:, 0], X[:, 1], c=clusters, cmap=\"viridis\", s=50)\n",
        "plt.title(\"Unsupervised Learning - KMeans Clustering on Iris\")\n",
        "plt.xlabel(\"Sepal length\")\n",
        "plt.ylabel(\"Sepal width\")\n",
        "plt.show()\n"
      ],
      "metadata": {
        "id": "8bSjepgyw2X6"
      },
      "execution_count": null,
      "outputs": []
    },
    {
      "cell_type": "markdown",
      "source": [
        "# ✨ Day 1 Reflection\n",
        "- Learned difference between **Supervised** (labeled data) and **Unsupervised** (no labels).  \n",
        "- Supervised = like a teacher giving you the answers first.  \n",
        "- Unsupervised = like exploring a dungeon without a map.  \n",
        "\n",
        "🎮 Think of it as:  \n",
        "- Supervised = You get quest markers on the map.  \n",
        "- Unsupervised = You wander around and discover secret dungeons by yourself.  \n"
      ],
      "metadata": {
        "id": "WCndqsxkxKLz"
      }
    }
  ]
}