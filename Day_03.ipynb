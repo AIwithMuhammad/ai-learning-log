{
  "cells": [
    {
      "cell_type": "markdown",
      "metadata": {
        "id": "7NCdOBFl2l9S"
      },
      "source": [
        "# Day 03 — Making the Dataset ready for ML.\n",
        "\n",
        "In this notebook, I'm **learning step by step** how to clean the `vehicles.csv` dataset. I'll make notes along the way so I understand *why* each step is necessary.\n",
        "\n",
        "Goals:\n",
        "1. Load and explore the raw dataset.\n",
        "2. Check for missing values, duplicates, and inconsistent data.\n",
        "3. Handle outliers and incorrect entries.\n",
        "4. Create new features (if useful).\n",
        "5. Save the cleaned dataset.\n",
        "\n",
        "---"
      ]
    },
    {
      "cell_type": "markdown",
      "metadata": {
        "id": "1zSY__Fw2l9U"
      },
      "source": [
        "## Step 1 — Load the dataset\n",
        "\n",
        "🔹 First I will import libraries and load the `vehicles.csv` file.\n",
        "\n",
        "👉 Note: In Colab, I may need to upload the file manually."
      ]
    },
    {
      "cell_type": "code",
      "execution_count": null,
      "metadata": {
        "id": "xHDIm8Cj2l9U"
      },
      "outputs": [],
      "source": [
        "import pandas as pd\n",
        "import numpy as np\n",
        "\n",
        "# Load dataset (update path if needed)\n",
        "df = pd.read_csv('vehicles.csv')\n",
        "\n",
        "# Show shape and first rows\n",
        "print(\"Shape:\", df.shape)\n",
        "df.head()"
      ]
    },
    {
      "cell_type": "markdown",
      "metadata": {
        "id": "QRUDHPeD2l9V"
      },
      "source": [
        "## Step 2 — Quick dataset overview\n",
        "\n",
        "🔹 I want to understand what columns exist, their types, and what kind of data they contain."
      ]
    },
    {
      "cell_type": "code",
      "execution_count": null,
      "metadata": {
        "id": "u1g7R0uO2l9V"
      },
      "outputs": [],
      "source": [
        "# Info and summary statistics\n",
        "df.info()\n",
        "df.describe(include='all').T"
      ]
    },
    {
      "cell_type": "markdown",
      "metadata": {
        "id": "X0Kgla7h2l9V"
      },
      "source": [
        "## Step 3 — Missing values check\n",
        "\n",
        "🔹 Missing values can cause problems for ML models, so I’ll check which columns have them."
      ]
    },
    {
      "cell_type": "code",
      "execution_count": null,
      "metadata": {
        "id": "-T0etCyI2l9W"
      },
      "outputs": [],
      "source": [
        "# Count missing values\n",
        "df.isnull().sum().sort_values(ascending=False).head(20)"
      ]
    },
    {
      "cell_type": "markdown",
      "metadata": {
        "id": "8HagMR712l9W"
      },
      "source": [
        "👉 Notes:\n",
        "- Some columns might have a huge amount of missing values (like `size`, `drive`, etc.).\n",
        "- I should decide whether to **drop those columns** or **fill them** later.\n",
        "- Strategy depends on importance + how much data is missing."
      ]
    },
    {
      "cell_type": "markdown",
      "metadata": {
        "id": "mNyVLBoR2l9W"
      },
      "source": [
        "## Step 4 — Remove duplicates\n",
        "\n",
        "🔹 Duplicated rows don’t add value and can bias analysis."
      ]
    },
    {
      "cell_type": "code",
      "execution_count": null,
      "metadata": {
        "id": "I-ym6y7P2l9W"
      },
      "outputs": [],
      "source": [
        "before = df.shape[0]\n",
        "df = df.drop_duplicates()\n",
        "after = df.shape[0]\n",
        "print(f\"Removed {before - after} duplicates\")"
      ]
    },
    {
      "cell_type": "markdown",
      "metadata": {
        "id": "GuhyAugz2l9W"
      },
      "source": [
        "## Step 5 — Handle outliers\n",
        "\n",
        "🔹 Some prices or odometer values might be unrealistic (e.g., car with $1 price or 5 million miles).\n",
        "\n",
        "👉 Common technique: use the **IQR method** (Interquartile Range) to remove extreme outliers."
      ]
    },
    {
      "cell_type": "code",
      "execution_count": null,
      "metadata": {
        "id": "leFDMdlp2l9W"
      },
      "outputs": [],
      "source": [
        "Q1 = df['price'].quantile(0.25)\n",
        "Q3 = df['price'].quantile(0.75)\n",
        "IQR = Q3 - Q1\n",
        "low, high = Q1 - 1.5 * IQR, Q3 + 1.5 * IQR\n",
        "df = df[(df['price'] >= low) & (df['price'] <= high)]\n",
        "\n",
        "print(\"Shape after removing price outliers:\", df.shape)"
      ]
    },
    {
      "cell_type": "markdown",
      "metadata": {
        "id": "uMCxLaox2l9X"
      },
      "source": [
        "👉 I can repeat this method for other numeric columns like `odometer` if needed."
      ]
    },
    {
      "cell_type": "markdown",
      "metadata": {
        "id": "sdnOdanm2l9X"
      },
      "source": [
        "## Step 6 — Feature Engineering (learning practice)\n",
        "\n",
        "🔹 Create some new columns to help models later:\n",
        "- **Car age** = current year − year of the car.\n",
        "- **Price per mile** = price / odometer.\n",
        "- **Log price** = log transformation of price to reduce skewness."
      ]
    },
    {
      "cell_type": "code",
      "execution_count": null,
      "metadata": {
        "id": "k2sOjSgM2l9X"
      },
      "outputs": [],
      "source": [
        "from datetime import datetime\n",
        "\n",
        "df['car_age'] = datetime.now().year - df['year']\n",
        "df['price_per_mile'] = df['price'] / (df['odometer'] + 1)\n",
        "df['log_price'] = np.log1p(df['price'])\n",
        "\n",
        "df[['year', 'car_age', 'price', 'price_per_mile', 'log_price']].head()"
      ]
    },
    {
      "cell_type": "markdown",
      "metadata": {
        "id": "FbdIeGiI2l9X"
      },
      "source": [
        "## Step 7 — Save the cleaned dataset\n",
        "\n",
        "🔹 Finally, I’ll save the cleaned version so I can use it later in modeling."
      ]
    },
    {
      "cell_type": "code",
      "execution_count": null,
      "metadata": {
        "id": "bG0_LwUZ2l9X"
      },
      "outputs": [],
      "source": [
        "df.to_csv('vehicles_cleaned.csv', index=False)\n",
        "print(\"✅ Cleaned dataset saved as vehicles_cleaned.csv\")"
      ]
    },
    {
      "cell_type": "markdown",
      "metadata": {
        "id": "ZFb8SHH42l9X"
      },
      "source": [
        "# ✅ Summary of what I learned\n",
        "- How to load and explore a dataset in pandas.\n",
        "- How to check and deal with missing values.\n",
        "- How to remove duplicates.\n",
        "- How to detect and remove outliers using IQR.\n",
        "- How to create new features (`car_age`, `price_per_mile`, `log_price`).\n",
        "- How to save the cleaned dataset for later use."
      ]
    }
  ],
  "metadata": {
    "kernelspec": {
      "display_name": "Python 3",
      "language": "python",
      "name": "python3"
    },
    "language_info": {
      "name": "python",
      "version": "3.9"
    },
    "colab": {
      "provenance": []
    }
  },
  "nbformat": 4,
  "nbformat_minor": 0
}