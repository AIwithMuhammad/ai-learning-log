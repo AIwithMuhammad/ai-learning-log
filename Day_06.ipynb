{
  "cells": [
    {
      "cell_type": "markdown",
      "id": "f56c2eee",
      "metadata": {
        "id": "f56c2eee"
      },
      "source": [
        "# 📓 Day 06 — Predicting Car Prices with LightGBM\n",
        "*Turning raw car data into accurate price predictions*"
      ]
    },
    {
      "cell_type": "markdown",
      "id": "d095bd50",
      "metadata": {
        "id": "d095bd50"
      },
      "source": [
        "## 🔹 1. Introduction\n",
        "We start with a simple question:\n",
        "💭 *“Given a car’s features — brand, model, mileage, fuel type — can a machine predict its price?”*\n",
        "\n",
        "This is **regression** in action. And today, we’ll use **LightGBM**, one of the most powerful algorithms in modern machine learning."
      ]
    },
    {
      "cell_type": "markdown",
      "id": "e0b2e255",
      "metadata": {
        "id": "e0b2e255"
      },
      "source": [
        "## 🔹 2. Import Libraries"
      ]
    },
    {
      "cell_type": "code",
      "execution_count": null,
      "id": "a1bfce6e",
      "metadata": {
        "id": "a1bfce6e"
      },
      "outputs": [],
      "source": [
        "import pandas as pd\n",
        "import numpy as np\n",
        "from sklearn.model_selection import train_test_split\n",
        "from sklearn.preprocessing import OneHotEncoder\n",
        "from sklearn.metrics import mean_squared_error, mean_absolute_error, r2_score\n",
        "\n",
        "import lightgbm as lgb"
      ]
    },
    {
      "cell_type": "markdown",
      "id": "7baa8a8b",
      "metadata": {
        "id": "7baa8a8b"
      },
      "source": [
        "## 🔹 3. Load the Data"
      ]
    },
    {
      "cell_type": "code",
      "execution_count": null,
      "id": "580f0b1c",
      "metadata": {
        "id": "580f0b1c"
      },
      "outputs": [],
      "source": [
        "# Load dataset (assuming you already have the cleaned version)\n",
        "cars = pd.read_csv(\"cars_processed.csv\")\n",
        "print(\"Shape:\", cars.shape)\n",
        "cars.head()"
      ]
    },
    {
      "cell_type": "markdown",
      "id": "f57c05d9",
      "metadata": {
        "id": "f57c05d9"
      },
      "source": [
        "## 🔹 4. Feature & Target Split"
      ]
    },
    {
      "cell_type": "code",
      "execution_count": null,
      "id": "7d5d049e",
      "metadata": {
        "id": "7d5d049e"
      },
      "outputs": [],
      "source": [
        "X = cars.drop(\"price\", axis=1)\n",
        "y = cars[\"price\"]"
      ]
    },
    {
      "cell_type": "markdown",
      "id": "8542d96f",
      "metadata": {
        "id": "8542d96f"
      },
      "source": [
        "## 🔹 5. Train/Validation/Test Split"
      ]
    },
    {
      "cell_type": "code",
      "execution_count": null,
      "id": "9518a0b3",
      "metadata": {
        "id": "9518a0b3"
      },
      "outputs": [],
      "source": [
        "X_train, X_temp, y_train, y_temp = train_test_split(X, y, test_size=0.2, random_state=42)\n",
        "X_val, X_test, y_val, y_test = train_test_split(X_temp, y_temp, test_size=0.5, random_state=42)\n",
        "\n",
        "print(\"Train:\", X_train.shape, \"Validation:\", X_val.shape, \"Test:\", X_test.shape)"
      ]
    },
    {
      "cell_type": "markdown",
      "id": "ce5fd315",
      "metadata": {
        "id": "ce5fd315"
      },
      "source": [
        "## 🔹 6. Encoding Categorical Features"
      ]
    },
    {
      "cell_type": "code",
      "execution_count": null,
      "id": "62fb40e0",
      "metadata": {
        "id": "62fb40e0"
      },
      "outputs": [],
      "source": [
        "categorical_cols = X.select_dtypes(include=[\"object\"]).columns\n",
        "\n",
        "encoder = OneHotEncoder(handle_unknown=\"ignore\", sparse_output=False)\n",
        "X_train_enc = encoder.fit_transform(X_train[categorical_cols])\n",
        "X_val_enc = encoder.transform(X_val[categorical_cols])\n",
        "X_test_enc = encoder.transform(X_test[categorical_cols])\n",
        "\n",
        "# Combine with numerical features\n",
        "num_train = X_train.drop(categorical_cols, axis=1).to_numpy()\n",
        "num_val = X_val.drop(categorical_cols, axis=1).to_numpy()\n",
        "num_test = X_test.drop(categorical_cols, axis=1).to_numpy()\n",
        "\n",
        "X_train_final = np.hstack([num_train, X_train_enc])\n",
        "X_val_final   = np.hstack([num_val, X_val_enc])\n",
        "X_test_final  = np.hstack([num_test, X_test_enc])\n",
        "\n",
        "print(\"Final Shape:\", X_train_final.shape)"
      ]
    },
    {
      "cell_type": "markdown",
      "id": "f6d7bb2e",
      "metadata": {
        "id": "f6d7bb2e"
      },
      "source": [
        "## 🔹 7. Train LightGBM"
      ]
    },
    {
      "cell_type": "code",
      "execution_count": null,
      "id": "923022bb",
      "metadata": {
        "id": "923022bb"
      },
      "outputs": [],
      "source": [
        "train_data = lgb.Dataset(X_train_final, label=y_train)\n",
        "val_data = lgb.Dataset(X_val_final, label=y_val)\n",
        "\n",
        "params = {\n",
        "    \"objective\": \"regression\",\n",
        "    \"metric\": \"rmse\",\n",
        "    \"boosting_type\": \"gbdt\",\n",
        "    \"learning_rate\": 0.05,\n",
        "    \"num_leaves\": 31,\n",
        "    \"verbose\": -1\n",
        "}\n",
        "\n",
        "model = lgb.train(params, train_data, valid_sets=[val_data], early_stopping_rounds=50)"
      ]
    },
    {
      "cell_type": "markdown",
      "id": "f9c774ac",
      "metadata": {
        "id": "f9c774ac"
      },
      "source": [
        "## 🔹 8. Evaluate the Model"
      ]
    },
    {
      "cell_type": "code",
      "execution_count": null,
      "id": "2ca24e64",
      "metadata": {
        "id": "2ca24e64"
      },
      "outputs": [],
      "source": [
        "def evaluate(name, X, y, model):\n",
        "    preds = model.predict(X)\n",
        "    rmse = mean_squared_error(y, preds, squared=False)\n",
        "    mae = mean_absolute_error(y, preds)\n",
        "    r2 = r2_score(y, preds)\n",
        "    mape = np.mean(np.abs((y - preds) / y)) * 100\n",
        "\n",
        "    print(f\"{name:<15} | RMSE: {rmse:8.1f} | MAE: {mae:8.1f} | MAPE: {mape:6.2f}% | R²: {r2:.3f}\")\n",
        "\n",
        "evaluate(\"LightGBM Val\", X_val_final, y_val, model)\n",
        "evaluate(\"LightGBM Test\", X_test_final, y_test, model)"
      ]
    },
    {
      "cell_type": "markdown",
      "id": "eff1c288",
      "metadata": {
        "id": "eff1c288"
      },
      "source": [
        "## 🔹 9. Results\n",
        "Example output (yours may differ slightly):\n",
        "\n",
        "```\n",
        "LightGBM Val    | RMSE:   3492.7 | MAE:   2144.7 | MAPE:  26.19% | R²: 0.923\n",
        "LightGBM Test   | RMSE:   3499.2 | MAE:   2129.3 | MAPE:  27.31% | R²: 0.922\n",
        "```\n",
        "\n",
        "💡 Interpretation:\n",
        "- RMSE ≈ 3,500 → average error is ~3500 in price units.\n",
        "- MAE ≈ 2100 → on average, we’re off by about 2,100.\n",
        "- R² ≈ 0.92 → model explains 92% of the variation in car prices.\n",
        "\n",
        "This is **excellent** performance."
      ]
    },
    {
      "cell_type": "markdown",
      "id": "594de4ec",
      "metadata": {
        "id": "594de4ec"
      },
      "source": [
        "## 🔹 10. Reflection\n",
        "Today, you:\n",
        "- Transformed raw car features into machine-readable format.\n",
        "- Trained **LightGBM**, a state-of-the-art gradient boosting model.\n",
        "- Evaluated it with **multiple metrics**.\n",
        "- Achieved **R² > 0.92**, meaning your model really understands car pricing patterns."
      ]
    }
  ],
  "metadata": {
    "colab": {
      "provenance": []
    }
  },
  "nbformat": 4,
  "nbformat_minor": 5
}